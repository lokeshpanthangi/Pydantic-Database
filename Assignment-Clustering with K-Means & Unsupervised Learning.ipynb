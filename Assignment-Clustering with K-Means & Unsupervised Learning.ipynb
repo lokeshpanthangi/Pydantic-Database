{
 "cells": [
  {
   "cell_type": "code",
   "execution_count": null,
   "id": "23c54247",
   "metadata": {},
   "outputs": [],
   "source": [
    "# Import required libraries\n",
    "import pandas as pd\n",
    "import matplotlib.pyplot as plt\n",
    "import seaborn as sns\n",
    "\n",
    "# Load the dataset\n",
    "df = pd.read_csv('Mall_Customers.csv')\n",
    "\n",
    "# Display first 5 rows\n",
    "df.head()\n"
   ]
  },
  {
   "cell_type": "code",
   "execution_count": 1,
   "id": "d4a3d0a7",
   "metadata": {},
   "outputs": [
    {
     "ename": "NameError",
     "evalue": "name 'df' is not defined",
     "output_type": "error",
     "traceback": [
      "\u001b[31m---------------------------------------------------------------------------\u001b[39m",
      "\u001b[31mNameError\u001b[39m                                 Traceback (most recent call last)",
      "\u001b[36mCell\u001b[39m\u001b[36m \u001b[39m\u001b[32mIn[1]\u001b[39m\u001b[32m, line 2\u001b[39m\n\u001b[32m      1\u001b[39m \u001b[38;5;66;03m# Check for missing values\u001b[39;00m\n\u001b[32m----> \u001b[39m\u001b[32m2\u001b[39m \u001b[43mdf\u001b[49m.isnull().sum()\n",
      "\u001b[31mNameError\u001b[39m: name 'df' is not defined"
     ]
    }
   ],
   "source": [
    "# Check for missing values\n",
    "df.isnull().sum()\n"
   ]
  },
  {
   "cell_type": "code",
   "execution_count": null,
   "id": "1dad8984",
   "metadata": {},
   "outputs": [],
   "source": [
    "# Set plot style\n",
    "sns.set(style='whitegrid')\n",
    "\n",
    "# Age distribution\n",
    "plt.figure(figsize=(8,4))\n",
    "sns.histplot(df['Age'], bins=20, kde=True)\n",
    "plt.title('Age Distribution')\n",
    "plt.show()\n",
    "\n",
    "# Annual Income distribution\n",
    "plt.figure(figsize=(8,4))\n",
    "sns.histplot(df['Annual Income (k$)'], bins=20, kde=True)\n",
    "plt.title('Annual Income Distribution')\n",
    "plt.show()\n"
   ]
  },
  {
   "cell_type": "code",
   "execution_count": null,
   "id": "649eafcb",
   "metadata": {},
   "outputs": [],
   "source": [
    "# Box plot for Age\n",
    "plt.figure(figsize=(6,4))\n",
    "sns.boxplot(x=df['Age'])\n",
    "plt.title('Box Plot - Age')\n",
    "plt.show()\n",
    "\n",
    "# Box plot for Annual Income\n",
    "plt.figure(figsize=(6,4))\n",
    "sns.boxplot(x=df['Annual Income (k$)'])\n",
    "plt.title('Box Plot - Annual Income')\n",
    "plt.show()\n"
   ]
  },
  {
   "cell_type": "code",
   "execution_count": null,
   "id": "68bd39b5",
   "metadata": {},
   "outputs": [],
   "source": [
    "X = df[['Annual Income (k$)', 'Spending Score (1-100)']]\n",
    "X.head()\n"
   ]
  },
  {
   "cell_type": "code",
   "execution_count": null,
   "id": "d603b9b8",
   "metadata": {},
   "outputs": [],
   "source": [
    "from sklearn.cluster import KMeans\n",
    "\n",
    "# KMeans with 3 clusters\n",
    "kmeans = KMeans(n_clusters=3, random_state=42)\n",
    "df['Cluster'] = kmeans.fit_predict(X)\n"
   ]
  },
  {
   "cell_type": "code",
   "execution_count": null,
   "id": "bad8a300",
   "metadata": {},
   "outputs": [],
   "source": [
    "# Plotting clusters\n",
    "plt.figure(figsize=(8,6))\n",
    "sns.scatterplot(x='Annual Income (k$)', y='Spending Score (1-100)', \n",
    "                hue='Cluster', data=df, palette='Set1', s=100)\n",
    "plt.title('K-Means Clustering (k=3)')\n",
    "plt.xlabel('Annual Income (k$)')\n",
    "plt.ylabel('Spending Score (1-100)')\n",
    "plt.legend()\n",
    "plt.show()\n"
   ]
  },
  {
   "cell_type": "markdown",
   "id": "88ead936",
   "metadata": {},
   "source": [
    "Intermediate Level - KMeans with 5 clusters"
   ]
  },
  {
   "cell_type": "code",
   "execution_count": null,
   "id": "d7b96a6f",
   "metadata": {},
   "outputs": [],
   "source": [
    "from sklearn.preprocessing import StandardScaler\n",
    "\n",
    "# Select numerical features only\n",
    "numerical_features = ['Age', 'Annual Income (k$)', 'Spending Score (1-100)']\n",
    "X_scaled = StandardScaler().fit_transform(df[numerical_features])\n"
   ]
  },
  {
   "cell_type": "code",
   "execution_count": null,
   "id": "b81c031e",
   "metadata": {},
   "outputs": [],
   "source": [
    "wcss = []\n",
    "K = range(1, 11)\n",
    "\n",
    "for k in K:\n",
    "    kmeans = KMeans(n_clusters=k, random_state=42)\n",
    "    kmeans.fit(X_scaled)\n",
    "    wcss.append(kmeans.inertia_)\n",
    "\n",
    "# Plot WCSS vs k\n",
    "plt.figure(figsize=(8,4))\n",
    "plt.plot(K, wcss, 'bo-')\n",
    "plt.xlabel('Number of clusters (k)')\n",
    "plt.ylabel('Within-Cluster Sum of Squares (WCSS)')\n",
    "plt.title('Elbow Method For Optimal k')\n",
    "plt.show()\n"
   ]
  },
  {
   "cell_type": "code",
   "execution_count": null,
   "id": "0b58c3cc",
   "metadata": {},
   "outputs": [],
   "source": [
    "# Assume from elbow method we choose k=5\n",
    "kmeans_opt = KMeans(n_clusters=5, random_state=42)\n",
    "df['Cluster_5'] = kmeans_opt.fit_predict(X_scaled)\n"
   ]
  },
  {
   "cell_type": "code",
   "execution_count": null,
   "id": "93f82733",
   "metadata": {},
   "outputs": [],
   "source": [
    "# Group by clusters and get mean values\n",
    "cluster_profile = df.groupby('Cluster_5')[['Age', 'Annual Income (k$)', 'Spending Score (1-100)']].mean()\n",
    "cluster_profile\n"
   ]
  },
  {
   "cell_type": "markdown",
   "id": "43608ef7",
   "metadata": {},
   "source": [
    "Hard Mode "
   ]
  },
  {
   "cell_type": "code",
   "execution_count": null,
   "id": "0f993c4d",
   "metadata": {},
   "outputs": [],
   "source": [
    "# Already selected: Age, Annual Income, Spending Score\n",
    "X_all = df[['Age', 'Annual Income (k$)', 'Spending Score (1-100)']]\n",
    "X_scaled_all = StandardScaler().fit_transform(X_all)\n"
   ]
  },
  {
   "cell_type": "code",
   "execution_count": null,
   "id": "a489147f",
   "metadata": {},
   "outputs": [],
   "source": [
    "from sklearn.decomposition import PCA\n",
    "\n",
    "# Reduce to 2D and 3D for visualization\n",
    "pca_2d = PCA(n_components=2)\n",
    "X_pca_2d = pca_2d.fit_transform(X_scaled_all)\n",
    "\n",
    "pca_3d = PCA(n_components=3)\n",
    "X_pca_3d = pca_3d.fit_transform(X_scaled_all)\n"
   ]
  },
  {
   "cell_type": "code",
   "execution_count": null,
   "id": "43ef406d",
   "metadata": {},
   "outputs": [],
   "source": [
    "from sklearn.metrics import silhouette_score\n",
    "\n",
    "scores = []\n",
    "random_states = [0, 10, 42, 100, 200]\n",
    "\n",
    "for state in random_states:\n",
    "    kmeans = KMeans(n_clusters=5, random_state=state)\n",
    "    labels = kmeans.fit_predict(X_scaled_all)\n",
    "    score = silhouette_score(X_scaled_all, labels)\n",
    "    scores.append((state, score))\n",
    "\n",
    "# Show silhouette scores\n",
    "pd.DataFrame(scores, columns=[\"Random State\", \"Silhouette Score\"])\n"
   ]
  },
  {
   "cell_type": "code",
   "execution_count": null,
   "id": "07edd904",
   "metadata": {},
   "outputs": [],
   "source": [
    "kmeans_final = KMeans(n_clusters=5, random_state=42)\n",
    "df['Final_Cluster'] = kmeans_final.fit_predict(X_scaled_all)\n"
   ]
  },
  {
   "cell_type": "code",
   "execution_count": null,
   "id": "ad04acab",
   "metadata": {},
   "outputs": [],
   "source": [
    "from mpl_toolkits.mplot3d import Axes3D\n",
    "\n",
    "fig = plt.figure(figsize=(10,8))\n",
    "ax = fig.add_subplot(111, projection='3d')\n",
    "ax.scatter(X_pca_3d[:,0], X_pca_3d[:,1], X_pca_3d[:,2],\n",
    "           c=df['Final_Cluster'], cmap='Set2', s=60)\n",
    "ax.set_title('3D PCA Cluster Visualization')\n",
    "ax.set_xlabel('PC1')\n",
    "ax.set_ylabel('PC2')\n",
    "ax.set_zlabel('PC3')\n",
    "plt.show()\n"
   ]
  }
 ],
 "metadata": {
  "kernelspec": {
   "display_name": "Python 3",
   "language": "python",
   "name": "python3"
  },
  "language_info": {
   "codemirror_mode": {
    "name": "ipython",
    "version": 3
   },
   "file_extension": ".py",
   "mimetype": "text/x-python",
   "name": "python",
   "nbconvert_exporter": "python",
   "pygments_lexer": "ipython3",
   "version": "3.13.5"
  }
 },
 "nbformat": 4,
 "nbformat_minor": 5
}
