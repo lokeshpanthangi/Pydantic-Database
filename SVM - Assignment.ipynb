{
 "cells": [
  {
   "cell_type": "code",
   "execution_count": null,
   "id": "d4984bac",
   "metadata": {},
   "outputs": [],
   "source": [
    "import pandas as pd\n",
    "\n",
    "df = pd.read_csv('Social_Network_Ads.csv')\n",
    "print(df.head())\n"
   ]
  },
  {
   "cell_type": "code",
   "execution_count": null,
   "id": "5276ab89",
   "metadata": {},
   "outputs": [],
   "source": [
    "# Check for missing values\n",
    "print(\"Null Values:\\n\", df.isnull().sum())\n",
    "\n",
    "# Value counts for target variable\n",
    "print(\"\\nTarget Distribution:\\n\", df['Purchased'].value_counts())\n"
   ]
  },
  {
   "cell_type": "code",
   "execution_count": null,
   "id": "3375d198",
   "metadata": {},
   "outputs": [],
   "source": [
    "import matplotlib.pyplot as plt\n",
    "import seaborn as sns\n",
    "\n",
    "plt.figure(figsize=(12, 5))\n",
    "\n",
    "# Age vs Purchased\n",
    "plt.subplot(1, 2, 1)\n",
    "sns.boxplot(x='Purchased', y='Age', data=df)\n",
    "plt.title('Age vs Purchased')\n",
    "\n",
    "# Salary vs Purchased\n",
    "plt.subplot(1, 2, 2)\n",
    "sns.boxplot(x='Purchased', y='EstimatedSalary', data=df)\n",
    "plt.title('Salary vs Purchased')\n",
    "\n",
    "plt.tight_layout()\n",
    "plt.show()\n"
   ]
  },
  {
   "cell_type": "code",
   "execution_count": null,
   "id": "faf43bf3",
   "metadata": {},
   "outputs": [],
   "source": [
    "X = df[['Age', 'EstimatedSalary']]\n",
    "y = df['Purchased']\n"
   ]
  },
  {
   "cell_type": "code",
   "execution_count": null,
   "id": "276692f8",
   "metadata": {},
   "outputs": [],
   "source": [
    "from sklearn.preprocessing import StandardScaler\n",
    "\n",
    "scaler = StandardScaler()\n",
    "X_scaled = scaler.fit_transform(X)\n"
   ]
  },
  {
   "cell_type": "code",
   "execution_count": null,
   "id": "dca432d5",
   "metadata": {},
   "outputs": [],
   "source": [
    "from sklearn.model_selection import train_test_split\n",
    "\n",
    "X_train, X_test, y_train, y_test = train_test_split(X_scaled, y, test_size=0.25, random_state=42)\n"
   ]
  },
  {
   "cell_type": "code",
   "execution_count": null,
   "id": "6a4120b3",
   "metadata": {},
   "outputs": [],
   "source": [
    "from sklearn.svm import SVC\n",
    "\n",
    "model_linear = SVC(kernel='linear', random_state=42)\n",
    "model_linear.fit(X_train, y_train)\n"
   ]
  },
  {
   "cell_type": "code",
   "execution_count": null,
   "id": "3d842752",
   "metadata": {},
   "outputs": [],
   "source": [
    "model_rbf = SVC(kernel='rbf', random_state=42)\n",
    "model_rbf.fit(X_train, y_train)\n"
   ]
  },
  {
   "cell_type": "code",
   "execution_count": null,
   "id": "109663ef",
   "metadata": {},
   "outputs": [],
   "source": [
    "from sklearn.metrics import accuracy_score\n",
    "\n",
    "acc_linear = accuracy_score(y_test, model_linear.predict(X_test))\n",
    "acc_rbf = accuracy_score(y_test, model_rbf.predict(X_test))\n",
    "\n",
    "print(\"Accuracy - Linear SVM:\", acc_linear)\n",
    "print(\"Accuracy - RBF SVM:\", acc_rbf)\n"
   ]
  },
  {
   "cell_type": "code",
   "execution_count": null,
   "id": "4013ca2b",
   "metadata": {},
   "outputs": [],
   "source": [
    "from sklearn.metrics import confusion_matrix\n",
    "\n",
    "print(\"Confusion Matrix - Linear Kernel:\\n\", confusion_matrix(y_test, model_linear.predict(X_test)))\n",
    "print(\"\\nConfusion Matrix - RBF Kernel:\\n\", confusion_matrix(y_test, model_rbf.predict(X_test)))\n"
   ]
  },
  {
   "cell_type": "code",
   "execution_count": null,
   "id": "cb3c7638",
   "metadata": {},
   "outputs": [],
   "source": [
    "from sklearn.metrics import classification_report\n",
    "\n",
    "print(\"Classification Report - Linear Kernel:\\n\", classification_report(y_test, model_linear.predict(X_test)))\n",
    "print(\"Classification Report - RBF Kernel:\\n\", classification_report(y_test, model_rbf.predict(X_test)))\n"
   ]
  },
  {
   "cell_type": "code",
   "execution_count": null,
   "id": "d0359f86",
   "metadata": {},
   "outputs": [],
   "source": [
    "import numpy as np\n",
    "\n",
    "def plot_decision_boundary(model, X, y, title):\n",
    "    x1, x2 = np.meshgrid(\n",
    "        np.arange(X[:, 0].min() - 1, X[:, 0].max() + 1, 0.01),\n",
    "        np.arange(X[:, 1].min() - 1, X[:, 1].max() + 1, 0.01)\n",
    "    )\n",
    "    Z = model.predict(np.c_[x1.ravel(), x2.ravel()]).reshape(x1.shape)\n",
    "\n",
    "    plt.contourf(x1, x2, Z, alpha=0.3, cmap='coolwarm')\n",
    "    plt.scatter(X[:, 0], X[:, 1], c=y, edgecolors='k')\n",
    "    plt.title(title)\n",
    "    plt.xlabel('Age (scaled)')\n",
    "    plt.ylabel('Estimated Salary (scaled)')\n",
    "    plt.show()\n",
    "\n",
    "# Linear Kernel\n",
    "plot_decision_boundary(model_linear, X_scaled, y, \"Decision Boundary - Linear SVM\")\n",
    "\n",
    "# RBF Kernel\n",
    "plot_decision_boundary(model_rbf, X_scaled, y, \"Decision Boundary - RBF SVM\")\n"
   ]
  },
  {
   "cell_type": "code",
   "execution_count": null,
   "id": "271646df",
   "metadata": {},
   "outputs": [],
   "source": [
    "gammas = [0.1, 1, 10]\n",
    "\n",
    "for g in gammas:\n",
    "    model_gamma = SVC(kernel='rbf', gamma=g, random_state=42)\n",
    "    model_gamma.fit(X_train, y_train)\n",
    "    print(f\"Gamma: {g}\")\n",
    "    plot_decision_boundary(model_gamma, X_scaled, y, f\"RBF SVM - Gamma = {g}\")\n"
   ]
  }
 ],
 "metadata": {
  "language_info": {
   "name": "python"
  }
 },
 "nbformat": 4,
 "nbformat_minor": 5
}
